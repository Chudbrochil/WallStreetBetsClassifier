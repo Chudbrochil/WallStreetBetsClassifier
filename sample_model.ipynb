{
 "cells": [
  {
   "cell_type": "code",
   "execution_count": 1,
   "metadata": {
    "colab": {},
    "colab_type": "code",
    "id": "SU2OLj_F-JFe"
   },
   "outputs": [],
   "source": [
    "# Set this variable! If you're running in Google colab, set it to true.\n",
    "is_colab = False"
   ]
  },
  {
   "cell_type": "code",
   "execution_count": 2,
   "metadata": {
    "colab": {},
    "colab_type": "code",
    "id": "tLeLYyrEam09"
   },
   "outputs": [],
   "source": [
    "# Imports\n",
    "if is_colab:\n",
    "    from google.colab import drive\n",
    "    from google.colab import drive\n",
    "    drive.mount('/content/drive')\n",
    "import pandas as pd\n",
    "from sklearn.model_selection import train_test_split\n",
    "import numpy as np\n",
    "from sklearn import metrics\n",
    "from scipy import stats\n",
    "from sklearn.ensemble import RandomForestClassifier"
   ]
  },
  {
   "cell_type": "code",
   "execution_count": 3,
   "metadata": {
    "colab": {},
    "colab_type": "code",
    "id": "x1oIXgV3eNcv"
   },
   "outputs": [],
   "source": [
    "# Load the data\n",
    "if is_colab:\n",
    "    df = pd.read_csv('/content/drive/My Drive/WallStreetBetsClassifier/processed_larger.csv', names=[\"Time\", \"Ticker\", \"Body\", \"Author\", \"Score\", \"Ups\", \"Downs\", \"Controversiality\", \"Gilded\", \"Current_Price\", \"1D\", \"2D\", \"3D\", \"5D\", \"10D\"])\n",
    "else:\n",
    "    df = pd.read_csv('processed_larger.csv', names=[\"Time\", \"Ticker\", \"Body\", \"Author\", \"Score\", \"Ups\", \"Downs\", \"Controversiality\", \"Gilded\", \"Current_Price\", \"1D\", \"2D\", \"3D\", \"5D\", \"10D\"])"
   ]
  },
  {
   "cell_type": "code",
   "execution_count": 4,
   "metadata": {
    "colab": {
     "base_uri": "https://localhost:8080/",
     "height": 102
    },
    "colab_type": "code",
    "id": "wSFB9GOPsBLo",
    "outputId": "79c6cfb2-6b64-4ba8-e192-f0219a5db876",
    "scrolled": true
   },
   "outputs": [
    {
     "name": "stdout",
     "output_type": "stream",
     "text": [
      "14192\n",
      "31981\n",
      "29573\n",
      "25092\n",
      "13944\n"
     ]
    }
   ],
   "source": [
    "def price_change_trans(pct_change):\n",
    "    if pct_change < -0.05: return 0\n",
    "    elif pct_change < -0.01 and pct_change > -0.05: return 1\n",
    "    elif pct_change < 0.01 and pct_change > -0.01: return 2\n",
    "    elif pct_change < 0.05 and pct_change > 0.01: return 3\n",
    "    else: return 4\n",
    "\n",
    "\n",
    "# Add diffs in price columns, % changed and categorical price changes.\n",
    "def add_price_cols(df):\n",
    "\n",
    "    price_cols = [\"1D\", \"2D\", \"3D\", \"5D\", \"10D\"]\n",
    "\n",
    "    for price in price_cols:\n",
    "        percent_col = pd.DataFrame(df[\"Current_Price\"] / df[price].fillna(0) - 1.00,  columns = [price + \"_pct_change\"])\n",
    "        df = df.join(percent_col)\n",
    "\n",
    "        # Categorical price change\n",
    "        # \"Down-, Down, Neutral, Up, Up+\" = [<-5%, -1% - -5%, -1% - +1%, +1% - +5%, +5%+]\n",
    "        price_change_df = pd.DataFrame(list(df[price + \"_pct_change\"].map(price_change_trans)), columns = [price + \"_cat\"])\n",
    "        df = df.join(price_change_df)\n",
    "\n",
    "    return df\n",
    "\n",
    "df = add_price_cols(df)"
   ]
  },
  {
   "cell_type": "code",
   "execution_count": 5,
   "metadata": {
    "colab": {},
    "colab_type": "code",
    "id": "yunEcbPhsU9F"
   },
   "outputs": [],
   "source": [
    "# Make a train, val, test split for our data\n",
    "def train_val_test_split(df, train_frac=0.8, val_frac=0.1):\n",
    "\n",
    "    df.sort_values('Time')\n",
    "    num_rows = len(df)\n",
    "    train = df[0:int(train_frac * num_rows)]\n",
    "    val = df[int(train_frac * num_rows):int(train_frac * num_rows)+int(val_frac * num_rows)]\n",
    "    test = df[int(train_frac * num_rows)+int(val_frac * num_rows):]\n",
    "    return train, val, test\n",
    "\n",
    "train_df, val_df, test_df = train_val_test_split(df)"
   ]
  },
  {
   "cell_type": "code",
   "execution_count": 6,
   "metadata": {
    "colab": {},
    "colab_type": "code",
    "id": "9PXHTNEdckDV"
   },
   "outputs": [],
   "source": [
    "# Experiment class\n",
    "class Experiment:\n",
    "    def __init__(self, train_df, val_df, model, vectorizer, y_col_name=\"3D\"):\n",
    "        \"\"\"\n",
    "        vectorizer: accepts string and returns numpy array representing embedding for string\n",
    "        Input: \"I think SPY is going up\"\n",
    "        Output: np.array([343, 5674, 345, 3654, 23, 6546, 23434, 4345 234, 345]) \n",
    "        \"\"\"\n",
    "        self.train_df = train_df\n",
    "        self.val_df = val_df\n",
    "        self.model = model\n",
    "        self.vectorizer = vectorizer\n",
    "        self.X_train = None\n",
    "        self.X_val = None\n",
    "        self.y_train = None \n",
    "        self.y_val = None\n",
    "        self.y_col_name = y_col_name\n",
    "        \n",
    "        self.populate_x_y()\n",
    "\n",
    "    def vectorize_string(self, body):\n",
    "        return self.vectorizer(body)\n",
    "\n",
    "    def populate_x_y(self):\n",
    "        # TODO: Our X could be more than just the body if we want to add more features, e.g. author, score\n",
    "        # Turn into lists for use in sklearn.\n",
    "        self.X_train = list(map(self.vectorizer, list(self.train_df[\"Body\"])))\n",
    "        self.X_val = list(map(self.vectorizer, list(self.val_df[\"Body\"])))\n",
    "        self.y_train = list(self.train_df[self.y_col_name])\n",
    "        self.y_val = list(self.val_df[self.y_col_name])\n",
    "\n",
    "    def fit(self, X=None, y=None):\n",
    "        if X is None or y is None:\n",
    "            X = self.X_train\n",
    "            y = self.y_train\n",
    "        self.model.fit(X, y)\n",
    "\n",
    "    def predict(self, X_test=None):\n",
    "        if X_test is None:\n",
    "            X_test = self.X_val\n",
    "        return self.model.predict(X_test)\n"
   ]
  },
  {
   "cell_type": "code",
   "execution_count": 7,
   "metadata": {
    "colab": {
     "base_uri": "https://localhost:8080/",
     "height": 51
    },
    "colab_type": "code",
    "id": "-4rwHrEOc83N",
    "outputId": "a7a42391-1736-4098-d765-0229f99adeee"
   },
   "outputs": [],
   "source": [
    "# Test the Experiment class\n",
    "def dummy_vectorizer(body):\n",
    "    return np.array([54, 54,34, 234 ,345, 345])"
   ]
  },
  {
   "cell_type": "code",
   "execution_count": 8,
   "metadata": {
    "colab": {},
    "colab_type": "code",
    "id": "rvpnBnrjmllq"
   },
   "outputs": [],
   "source": [
    "# This is from CS224U HW2\n",
    "def glove2dict(src_filename):\n",
    "    \"\"\"GloVe Reader.\n",
    "\n",
    "    Parameters\n",
    "    ----------\n",
    "    src_filename : str\n",
    "        Full path to the GloVe file to be processed.\n",
    "\n",
    "    Returns\n",
    "    -------\n",
    "    dict\n",
    "        Mapping words to their GloVe vectors as `np.array`.\n",
    "\n",
    "    \"\"\"\n",
    "    # This distribution has some words with spaces, so we have to\n",
    "    # assume its dimensionality and parse out the lines specially:\n",
    "    if '840B.300d' in src_filename:\n",
    "        line_parser = lambda line: line.rsplit(\" \", 300)\n",
    "    else:\n",
    "        line_parser = lambda line: line.strip().split()\n",
    "    data = {}\n",
    "    with open(src_filename, encoding='utf8') as f:\n",
    "        while True:\n",
    "            try:\n",
    "                line = next(f)\n",
    "                line = line_parser(line)\n",
    "                data[line[0]] = np.array(line[1: ], dtype=np.float)\n",
    "            except StopIteration:\n",
    "                break\n",
    "            except UnicodeDecodeError:\n",
    "                pass\n",
    "    return data"
   ]
  },
  {
   "cell_type": "code",
   "execution_count": 9,
   "metadata": {
    "colab": {},
    "colab_type": "code",
    "id": "vd9dvBP6rAhU"
   },
   "outputs": [],
   "source": [
    "# Create a glove vectorizer from 300 dimensional Glove.6B\n",
    "if is_colab:\n",
    "    glove_dict = glove2dict(\"/content/drive/My Drive/WallStreetBetsClassifier/glove.6B.300d.txt\")\n",
    "else:\n",
    "    glove_dict = glove2dict(\"glove.6B.300d.txt\")\n",
    "\n",
    "def glove_vectorizer(body):\n",
    "  unk_vec = np.zeros(300)\n",
    "  result = np.zeros(300)\n",
    "  body_lower = body.lower()\n",
    "  body_split = body_lower.split()\n",
    "  for word in body_split:\n",
    "    vec_for_word = glove_dict.get(word)\n",
    "    if vec_for_word is None:\n",
    "      vec_for_word = unk_vec\n",
    "    result += vec_for_word\n",
    "  return result"
   ]
  },
  {
   "cell_type": "markdown",
   "metadata": {},
   "source": [
    "### **\"Random\" Guess**"
   ]
  },
  {
   "cell_type": "code",
   "execution_count": 33,
   "metadata": {},
   "outputs": [
    {
     "name": "stdout",
     "output_type": "stream",
     "text": [
      "0.22815407355882097\n"
     ]
    }
   ],
   "source": [
    "# Use a normal distribution for our price changes.\n",
    "np.random.seed(224)\n",
    "norm = stats.norm(1.938, 1.223)\n",
    "\n",
    "# Generate numbers according to this normal distribution.\n",
    "y_pred_raw = norm.rvs(size = len(val_df))\n",
    "\n",
    "y_pred = []\n",
    "for val in y_pred_raw:\n",
    "    if val < 0:\n",
    "        y_pred.append(0)\n",
    "    elif val > 4:\n",
    "        y_pred.append(4)\n",
    "    else:\n",
    "        y_pred.append(int(round(val)))\n",
    "\n",
    "# Create an experiment to do a random guess according to a normal distributions.\n",
    "experiment_random = Experiment(train_df, val_df, None, lambda x: x, y_col_name=\"3D_cat\")\n",
    "y_true = experiment_random.y_val\n",
    "\n",
    "print(metrics.accuracy_score(y_pred, y_true))\n"
   ]
  },
  {
   "cell_type": "markdown",
   "metadata": {
    "colab_type": "text",
    "id": "q-350xO23_Zt"
   },
   "source": [
    "### **Linear SVM**"
   ]
  },
  {
   "cell_type": "code",
   "execution_count": 10,
   "metadata": {
    "colab": {
     "base_uri": "https://localhost:8080/",
     "height": 68
    },
    "colab_type": "code",
    "id": "HJJHFLQptw6Q",
    "outputId": "b74f66a3-88ad-44b5-f672-f68c085f5c6a"
   },
   "outputs": [],
   "source": [
    "#from sklearn.svm import LinearSVC\n",
    "\n",
    "# Train a model using the 3-day price change category as the predicted value.\n",
    "#experiment_svm = Experiment(train_df, val_df, LinearSVC(random_state=0, tol=1e-5, verbose=1, max_iter=10000), glove_vectorizer, y_col_name=\"3D_cat\")\n",
    "#experiment_svm.fit()\n"
   ]
  },
  {
   "cell_type": "markdown",
   "metadata": {
    "colab_type": "text",
    "id": "aAN8nb-o4xIY"
   },
   "source": [
    "### **Random Forest**"
   ]
  },
  {
   "cell_type": "code",
   "execution_count": 56,
   "metadata": {
    "colab": {},
    "colab_type": "code",
    "id": "lo4Zismo4c2y"
   },
   "outputs": [
    {
     "name": "stderr",
     "output_type": "stream",
     "text": [
      "[Parallel(n_jobs=-1)]: Using backend ThreadingBackend with 12 concurrent workers.\n",
      "[Parallel(n_jobs=-1)]: Done  26 tasks      | elapsed:    9.2s\n",
      "[Parallel(n_jobs=-1)]: Done 176 tasks      | elapsed:   49.2s\n",
      "[Parallel(n_jobs=-1)]: Done 426 tasks      | elapsed:  1.9min\n",
      "[Parallel(n_jobs=-1)]: Done 776 tasks      | elapsed:  3.5min\n",
      "[Parallel(n_jobs=-1)]: Done 1000 out of 1000 | elapsed:  4.5min finished\n",
      "[Parallel(n_jobs=12)]: Using backend ThreadingBackend with 12 concurrent workers.\n",
      "[Parallel(n_jobs=12)]: Done  26 tasks      | elapsed:    0.0s\n",
      "[Parallel(n_jobs=12)]: Done 176 tasks      | elapsed:    0.1s\n",
      "[Parallel(n_jobs=12)]: Done 426 tasks      | elapsed:    0.4s\n",
      "[Parallel(n_jobs=12)]: Done 776 tasks      | elapsed:    0.8s\n"
     ]
    },
    {
     "name": "stdout",
     "output_type": "stream",
     "text": [
      "[2 1 2 ... 2 2 2]\n"
     ]
    },
    {
     "name": "stderr",
     "output_type": "stream",
     "text": [
      "[Parallel(n_jobs=12)]: Done 1000 out of 1000 | elapsed:    1.0s finished\n"
     ]
    }
   ],
   "source": [
    "y_col_name = \"3D_cat\"\n",
    "\n",
    "# Get distribution of class weights of training data.\n",
    "class_weights = train_df[y_col_name].value_counts().to_dict()\n",
    "\n",
    "experiment_rf = Experiment(train_df, val_df, RandomForestClassifier(n_estimators = 1000, n_jobs=-1, class_weight = class_weights, verbose=1), glove_vectorizer, y_col_name=y_col_name)\n",
    "\n",
    "experiment_rf.fit()\n",
    "print(experiment_rf.predict())\n"
   ]
  },
  {
   "cell_type": "code",
   "execution_count": 57,
   "metadata": {
    "colab": {
     "base_uri": "https://localhost:8080/",
     "height": 34
    },
    "colab_type": "code",
    "id": "BzA1wopgr6hT",
    "outputId": "5d2b4649-e9bf-4ee4-b229-04f27e3ee06d"
   },
   "outputs": [
    {
     "name": "stderr",
     "output_type": "stream",
     "text": [
      "[Parallel(n_jobs=12)]: Using backend ThreadingBackend with 12 concurrent workers.\n",
      "[Parallel(n_jobs=12)]: Done  26 tasks      | elapsed:    0.0s\n",
      "[Parallel(n_jobs=12)]: Done 176 tasks      | elapsed:    0.1s\n",
      "[Parallel(n_jobs=12)]: Done 426 tasks      | elapsed:    0.4s\n",
      "[Parallel(n_jobs=12)]: Done 776 tasks      | elapsed:    0.7s\n"
     ]
    },
    {
     "name": "stdout",
     "output_type": "stream",
     "text": [
      "0.3011042518041909\n"
     ]
    },
    {
     "name": "stderr",
     "output_type": "stream",
     "text": [
      "[Parallel(n_jobs=12)]: Done 1000 out of 1000 | elapsed:    1.0s finished\n"
     ]
    }
   ],
   "source": [
    "# Print metrics\n",
    "\n",
    "model = experiment_rf.model\n",
    "\n",
    "y_pred = experiment_rf.predict()\n",
    "y_true = experiment_rf.y_val\n",
    "\n",
    "\n",
    "from sklearn import metrics\n",
    "\n",
    "print(metrics.accuracy_score(y_pred, y_true))\n"
   ]
  },
  {
   "cell_type": "markdown",
   "metadata": {
    "colab": {},
    "colab_type": "code",
    "id": "IW5B9wXl9Oqb"
   },
   "source": [
    "### Visualization"
   ]
  },
  {
   "cell_type": "code",
   "execution_count": 99,
   "metadata": {},
   "outputs": [
    {
     "name": "stdout",
     "output_type": "stream",
     "text": [
      "{1: 25524, 2: 23295, 3: 20305, 4: 11589, 0: 11299}\n",
      "0.2773986001825849\n"
     ]
    },
    {
     "data": {
      "text/plain": [
       "0.25954264846535086"
      ]
     },
     "execution_count": 99,
     "metadata": {},
     "output_type": "execute_result"
    },
    {
     "data": {
      "text/plain": [
       "(-10, 10)"
      ]
     },
     "execution_count": 99,
     "metadata": {},
     "output_type": "execute_result"
    },
    {
     "data": {
      "text/plain": [
       "Text(0.5, 0, 'Percent change over 3 days')"
      ]
     },
     "execution_count": 99,
     "metadata": {},
     "output_type": "execute_result"
    },
    {
     "data": {
      "text/plain": [
       "Text(0, 0.5, 'Occurrences')"
      ]
     },
     "execution_count": 99,
     "metadata": {},
     "output_type": "execute_result"
    },
    {
     "data": {
      "text/plain": [
       "Text(0.5, 1.0, 'Continuous % change for 14 stocks')"
      ]
     },
     "execution_count": 99,
     "metadata": {},
     "output_type": "execute_result"
    },
    {
     "data": {
      "text/plain": [
       "<BarContainer object of 5 artists>"
      ]
     },
     "execution_count": 99,
     "metadata": {},
     "output_type": "execute_result"
    },
    {
     "data": {
      "text/plain": [
       "Text(0.5, 0, 'Classification')"
      ]
     },
     "execution_count": 99,
     "metadata": {},
     "output_type": "execute_result"
    },
    {
     "data": {
      "text/plain": [
       "Text(0, 0.5, 'Occurrences')"
      ]
     },
     "execution_count": 99,
     "metadata": {},
     "output_type": "execute_result"
    },
    {
     "data": {
      "text/plain": [
       "Text(0.5, 1.0, 'Discrete % change for 14 stocks')"
      ]
     },
     "execution_count": 99,
     "metadata": {},
     "output_type": "execute_result"
    },
    {
     "data": {
      "image/png": "[encoded data removed]",
      "text/plain": [
       "<Figure size 432x288 with 1 Axes>"
      ]
     },
     "metadata": {
      "needs_background": "light"
     },
     "output_type": "display_data"
    }
   ],
   "source": [
    "import matplotlib.pyplot as plt\n",
    "\n",
    "# Distribution of the training data according to categorical price changes.\n",
    "class_weights = train_df[y_col_name].value_counts().to_dict()\n",
    "print(class_weights)\n",
    "print(class_weights[1] / sum(class_weights.values()))\n",
    "\n",
    "single_guess = [2] * len(experiment_random.y_val)\n",
    "metrics.accuracy_score(single_guess, y_true)\n",
    "\n",
    "# Get occurrences, but we want whole number percents. Multiply by 100\n",
    "occurrences = list(df['3D_pct_change'].apply(lambda x: x*100))\n",
    "\n",
    "\n",
    "n, bins, patches = plt.hist(occurrences, 1000)\n",
    "plt.xlim(-10, 10)\n",
    "plt.xlabel(\"Percent change over 3 days\")\n",
    "plt.ylabel(\"Occurrences\")\n",
    "plt.title(\"Continuous % change for 14 stocks\")\n",
    "#plt.show()\n",
    "plt.savefig(\"continuous.png\")\n",
    "\n",
    "plt.clf()\n",
    "\n",
    "# TODO: Make a graph to show that this is a reasonable categorical representation.\n",
    "#df_dist = df['3D_pct_change'].value_counts().to_dict()\n",
    "#print(df_dist)\n",
    "occurrences_dict = {\"Down-\" : (df.loc[df['3D_pct_change'] < -0.05]).shape[0], \n",
    "            \"Down\" : (df.loc[(df['3D_pct_change'] >= -0.05) & (df['3D_pct_change'] <= -0.01)]).shape[0],\n",
    "            \"Neutral\" : (df.loc[(df['3D_pct_change'] >= -0.01) & (df['3D_pct_change'] <= 0.01)]).shape[0],\n",
    "            \"Up\" : (df.loc[(df['3D_pct_change'] >= 0.01) & (df['3D_pct_change'] <= 0.05)]).shape[0],\n",
    "            \"Up+\" : (df.loc[df['3D_pct_change'] >= 0.05]).shape[0]}\n",
    "\n",
    "plt.bar(occurrences_dict.keys(), occurrences_dict.values())\n",
    "plt.xlabel(\"Classification\")\n",
    "plt.ylabel(\"Occurrences\")\n",
    "plt.title(\"Discrete % change for 14 stocks\")\n",
    "#plt.show()\n",
    "plt.savefig(\"discrete.png\")"
   ]
  },
  {
   "cell_type": "code",
   "execution_count": null,
   "metadata": {},
   "outputs": [],
   "source": []
  }
 ],
 "metadata": {
  "colab": {
   "collapsed_sections": [],
   "name": "sample_model.ipynb",
   "provenance": [],
   "toc_visible": true
  },
  "kernelspec": {
   "display_name": "Python 3",
   "language": "python",
   "name": "python3"
  },
  "language_info": {
   "codemirror_mode": {
    "name": "ipython",
    "version": 3
   },
   "file_extension": ".py",
   "mimetype": "text/x-python",
   "name": "python",
   "nbconvert_exporter": "python",
   "pygments_lexer": "ipython3",
   "version": "3.7.6"
  }
 },
 "nbformat": 4,
 "nbformat_minor": 1
}
